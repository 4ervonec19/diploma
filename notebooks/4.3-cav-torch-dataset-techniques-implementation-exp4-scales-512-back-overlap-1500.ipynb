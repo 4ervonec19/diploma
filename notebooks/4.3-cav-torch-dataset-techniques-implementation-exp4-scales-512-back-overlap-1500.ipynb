{
 "cells": [
  {
   "cell_type": "markdown",
   "metadata": {},
   "source": [
    "В данном разделе рассмотрим подготовку данных и запуск обучения"
   ]
  },
  {
   "cell_type": "code",
   "execution_count": 1,
   "metadata": {},
   "outputs": [
    {
     "name": "stderr",
     "output_type": "stream",
     "text": [
      "/Library/Frameworks/Python.framework/Versions/3.12/lib/python3.12/site-packages/torch/utils/_pytree.py:185: FutureWarning: optree is installed but the version is too old to support PyTorch Dynamo in C++ pytree. C++ pytree support is disabled. Please consider upgrading optree using `python3 -m pip install --upgrade 'optree>=0.13.0'`.\n",
      "  warnings.warn(\n"
     ]
    }
   ],
   "source": [
    "import pandas as pd\n",
    "import numpy as np\n",
    "import matplotlib.pyplot as plt\n",
    "import random\n",
    "\n",
    "import torch\n",
    "from torch.utils.tensorboard import SummaryWriter\n",
    "import torchvision.transforms as transforms\n",
    "from torch.utils.data import Dataset\n",
    "from torch.utils.data import DataLoader, random_split\n",
    "from PIL  import Image\n",
    "\n",
    "from sklearn.metrics import accuracy_score, classification_report, confusion_matrix\n",
    "\n",
    "import os\n",
    "from dotenv import load_dotenv\n",
    "import warnings\n",
    "load_dotenv()\n",
    "\n",
    "warnings.filterwarnings('ignore')"
   ]
  },
  {
   "cell_type": "markdown",
   "metadata": {},
   "source": [
    "Импортируем пути к матрицам ```(.npz)``` и изображениям ```(.jpeg)```"
   ]
  },
  {
   "cell_type": "code",
   "execution_count": 2,
   "metadata": {},
   "outputs": [],
   "source": [
    "ECG_IMAGES_PATH = os.environ['ECG_IMAGES_PATH_512_OVERLAP_BACK']\n",
    "ECG_MATRCIES_PATH = os.environ['ECG_MATRICES_PATH_512_OVERLAP_BACK']\n",
    "\n",
    "REO_IMAGES_PATH = os.environ['REO_IMAGES_PATH_512_OVERLAP_BACK']\n",
    "REO_MATRCIES_PATH = os.environ['REO_MATRICES_PATH_512_OVERLAP_BACK']"
   ]
  },
  {
   "cell_type": "markdown",
   "metadata": {},
   "source": [
    "Далее необходимо написать класс ```Dataset```"
   ]
  },
  {
   "cell_type": "code",
   "execution_count": 3,
   "metadata": {},
   "outputs": [],
   "source": [
    "class EcgReoDataset(Dataset):\n",
    "\t'''Класс датасета для подачи изображений в сеть'''\n",
    "\tdef __init__(self, \n",
    "\t\t\t\tecg_folder_path,\n",
    "\t\t\t\treo_folder_path,\n",
    "\t\t\t\tuse_matrices = True):\n",
    "\t\t\n",
    "\t\tself.ecg_folder_path = ecg_folder_path\n",
    "\t\tself.reo_folder_path = reo_folder_path\n",
    "\n",
    "\t\tself.image_transform = transforms.Compose([\n",
    "\t\t\ttransforms.ToTensor(),\n",
    "\t\t\ttransforms.Normalize(mean=[0.5], std=[0.5])  \n",
    "\t\t])\n",
    "\t\t\n",
    "\t\tself.use_matrices = use_matrices\n",
    "\t\tself.ending = '.npz' if self.use_matrices else '.jpeg'\n",
    "\n",
    "\t\tecg_files = [os.path.join(ecg_folder_path, f) \n",
    "\t\t\t\t\tfor f in os.listdir(ecg_folder_path) \n",
    "\t\t\t\t\tif f.endswith(self.ending)]\n",
    "\t\t\n",
    "\t\treo_files = [os.path.join(reo_folder_path, f) \n",
    "\t\t\t\t\tfor f in os.listdir(reo_folder_path) \n",
    "\t\t\t\t\tif f.endswith(self.ending)]\n",
    "\t\t\n",
    "\t\tself.all_files = ecg_files + reo_files\n",
    "\n",
    "\t\tif not self.all_files:\n",
    "\t\t\traise FileNotFoundError(f\"No {self.ending} files found in the folders\")\n",
    "\t\t\n",
    "\tdef __len__(self):\n",
    "\t\treturn len(self.all_files)\n",
    "\t\n",
    "\tdef __getitem__(self, index):\n",
    "\t\tfilepath = self.all_files[index]\n",
    "\t\t\n",
    "\t\tfilename = os.path.basename(filepath)\n",
    "\t\ttry:\n",
    "\t\t\tlabel = int(filename.split('_')[-1].split('.')[0])\n",
    "\t\texcept:\n",
    "\t\t\traise ValueError(f\"Can't extract label from filename: {filename}\")\n",
    "\t\t\n",
    "\t\tif self.use_matrices:\n",
    "\t\t\tdata = np.load(filepath)['spec'] \n",
    "\t\t\ttensor = torch.from_numpy(data).float()\n",
    "\t\t\tif len(tensor.shape) == 2:\n",
    "\t\t\t\ttensor = tensor.unsqueeze(0)\n",
    "\t\telse:\n",
    "\t\t\timg = Image.open(filepath).convert('L')\n",
    "\t\t\ttensor = self.image_transform(img)\n",
    "\t\t\n",
    "\t\treturn {\n",
    "\t\t\t'data': tensor,\n",
    "\t\t\t'label': torch.tensor(label, dtype=torch.long),\n",
    "\t\t\t'filename': filename\n",
    "\t\t}\n",
    "\n",
    "# Для Triplet Loss\n",
    "class TripletEcgReoDataset(Dataset):\n",
    "    def __init__(self, base_dataset):\n",
    "        self.base_dataset = base_dataset\n",
    "        self.labels_to_indices = self._create_labels_to_indices()\n",
    "        self.labels = list(self.labels_to_indices.keys())\n",
    "        \n",
    "    def _create_labels_to_indices(self):\n",
    "        labels_to_indices = {}\n",
    "        for idx in range(len(self.base_dataset)):\n",
    "            if isinstance(self.base_dataset, torch.utils.data.Subset):\n",
    "                label = self.base_dataset.dataset[self.base_dataset.indices[idx]]['label'].item()\n",
    "            else:\n",
    "                label = self.base_dataset[idx]['label'].item()\n",
    "            \n",
    "            if label not in labels_to_indices:\n",
    "                labels_to_indices[label] = []\n",
    "            labels_to_indices[label].append(idx)\n",
    "        return labels_to_indices\n",
    "        \n",
    "    def __getitem__(self, index):\n",
    "        if isinstance(self.base_dataset, torch.utils.data.Subset):\n",
    "            anchor_item = self.base_dataset.dataset[self.base_dataset.indices[index]]\n",
    "        else:\n",
    "            anchor_item = self.base_dataset[index]\n",
    "        \n",
    "        anchor_label = anchor_item['label'].item()\n",
    "        \n",
    "        positive_index = index\n",
    "        while positive_index == index:\n",
    "            positive_index = random.choice(self.labels_to_indices[anchor_label])\n",
    "        \n",
    "        if isinstance(self.base_dataset, torch.utils.data.Subset):\n",
    "            positive_item = self.base_dataset.dataset[self.base_dataset.indices[positive_index]]\n",
    "        else:\n",
    "            positive_item = self.base_dataset[positive_index]\n",
    "        \n",
    "        negative_label = random.choice([l for l in self.labels if l != anchor_label])\n",
    "        negative_index = random.choice(self.labels_to_indices[negative_label])\n",
    "        \n",
    "        if isinstance(self.base_dataset, torch.utils.data.Subset):\n",
    "            negative_item = self.base_dataset.dataset[self.base_dataset.indices[negative_index]]\n",
    "        else:\n",
    "            negative_item = self.base_dataset[negative_index]\n",
    "        \n",
    "        return (\n",
    "            anchor_item['data'], \n",
    "            positive_item['data'], \n",
    "            negative_item['data']\n",
    "        )\n",
    "        \n",
    "    def __len__(self):\n",
    "        return len(self.base_dataset)\n",
    "\t\t"
   ]
  },
  {
   "cell_type": "markdown",
   "metadata": {},
   "source": [
    "Пробуем получить данные из датасета"
   ]
  },
  {
   "cell_type": "code",
   "execution_count": 4,
   "metadata": {},
   "outputs": [
    {
     "name": "stdout",
     "output_type": "stream",
     "text": [
      "1332\n"
     ]
    }
   ],
   "source": [
    "signals_dataset = EcgReoDataset(\n",
    "    ecg_folder_path=ECG_IMAGES_PATH,\n",
    "    reo_folder_path=REO_IMAGES_PATH,\n",
    "    use_matrices=False\n",
    ")\n",
    "\n",
    "print(len(signals_dataset))"
   ]
  },
  {
   "cell_type": "markdown",
   "metadata": {},
   "source": [
    "Пробуем получить элемент датасета"
   ]
  },
  {
   "cell_type": "code",
   "execution_count": 5,
   "metadata": {},
   "outputs": [
    {
     "data": {
      "text/plain": [
       "3"
      ]
     },
     "execution_count": 5,
     "metadata": {},
     "output_type": "execute_result"
    }
   ],
   "source": [
    "len(signals_dataset[0])"
   ]
  },
  {
   "cell_type": "markdown",
   "metadata": {},
   "source": [
    "Для подачи изображений датасет работает\n",
    "\n",
    "\n",
    "Проверим для подачи матриц:"
   ]
  },
  {
   "cell_type": "code",
   "execution_count": 6,
   "metadata": {},
   "outputs": [
    {
     "data": {
      "text/plain": [
       "1332"
      ]
     },
     "execution_count": 6,
     "metadata": {},
     "output_type": "execute_result"
    }
   ],
   "source": [
    "signals_dataset_matrices = EcgReoDataset(\n",
    "    ecg_folder_path=ECG_MATRCIES_PATH,\n",
    "    reo_folder_path=REO_MATRCIES_PATH,\n",
    "    use_matrices=True\n",
    ")\n",
    "\n",
    "len(signals_dataset_matrices)"
   ]
  },
  {
   "cell_type": "code",
   "execution_count": 7,
   "metadata": {},
   "outputs": [
    {
     "data": {
      "text/plain": [
       "{'data': tensor([[[0.0000, 0.0000, 0.0000,  ..., 0.0000, 0.0000, 0.0000],\n",
       "          [0.0000, 0.0000, 0.0000,  ..., 0.0000, 0.0000, 0.0000],\n",
       "          [0.0000, 0.0000, 0.0000,  ..., 0.0000, 0.0000, 0.0000],\n",
       "          ...,\n",
       "          [0.6173, 0.6168, 0.6015,  ..., 0.5844, 0.5845, 0.6007],\n",
       "          [0.6174, 0.6021, 0.6017,  ..., 0.5852, 0.5856, 0.5857],\n",
       "          [0.6028, 0.6024, 0.6020,  ..., 0.5854, 0.5860, 0.5864]]]),\n",
       " 'label': tensor(0),\n",
       " 'filename': 'ecg_window_8_2_0.npz'}"
      ]
     },
     "execution_count": 7,
     "metadata": {},
     "output_type": "execute_result"
    }
   ],
   "source": [
    "signals_dataset_matrices[2]"
   ]
  },
  {
   "cell_type": "markdown",
   "metadata": {},
   "source": [
    "Для матриц"
   ]
  },
  {
   "cell_type": "code",
   "execution_count": 8,
   "metadata": {},
   "outputs": [
    {
     "data": {
      "text/plain": [
       "3"
      ]
     },
     "execution_count": 8,
     "metadata": {},
     "output_type": "execute_result"
    }
   ],
   "source": [
    "len(signals_dataset_matrices[0])"
   ]
  },
  {
   "cell_type": "markdown",
   "metadata": {},
   "source": [
    "Датасеты корректно подготавливают данные"
   ]
  },
  {
   "cell_type": "markdown",
   "metadata": {},
   "source": [
    "Посмотрим на тензор"
   ]
  },
  {
   "cell_type": "code",
   "execution_count": 9,
   "metadata": {},
   "outputs": [
    {
     "data": {
      "image/png": "[encoded data removed]",
      "text/plain": [
       "<Figure size 1000x500 with 2 Axes>"
      ]
     },
     "metadata": {},
     "output_type": "display_data"
    }
   ],
   "source": [
    "def plot_tensor(tensor):\n",
    "\t\"\"\"\n",
    "\tВизуализирует torch тензор.\n",
    "\n",
    "\t:param tensor: Torch тензор для визуализации.\n",
    "\t:param title: Заголовок графика.\n",
    "\t:param xlabel: Метка оси X.\n",
    "\t:param ylabel: Метка оси Y.\n",
    "\t\"\"\"\n",
    "\tif tensor.dim() == 3:\n",
    "\t\ttensor = np.transpose(tensor, (1, 2, 0))\n",
    "\t\ttensor = (tensor + 1) / 2.0\n",
    "\telif tensor.dim() == 1:\n",
    "\t\ttensor = tensor.squeeze(0)\n",
    "\telse:\n",
    "\t\tpass\n",
    "\n",
    "\tplt.figure(figsize=(10, 5))\n",
    "\tplt.imshow(tensor, aspect='auto', cmap='viridis')\n",
    "\tplt.colorbar(label='Intensity')\n",
    "\tplt.title('Tensor Instance')\n",
    "\tplt.axis('off')\n",
    "\tplt.show()\n",
    "\t\n",
    "plot_tensor(signals_dataset_matrices[6]['data'])"
   ]
  },
  {
   "cell_type": "markdown",
   "metadata": {},
   "source": [
    "Далее необходимо подготовить модель к обучению на основе ```Constrastive Loss``` и ```Metric Learning```"
   ]
  },
  {
   "cell_type": "markdown",
   "metadata": {},
   "source": [
    "Будем использовать фреймворк ```PyTorch Lightning``` "
   ]
  },
  {
   "cell_type": "code",
   "execution_count": 10,
   "metadata": {},
   "outputs": [],
   "source": [
    "import torch.nn as nn\n",
    "import torch.nn.functional as F\n",
    "import pytorch_lightning as pl\n",
    "from torch.utils.data import DataLoader\n",
    "from torch.optim import Adam\n",
    "from torchvision import transforms\n",
    "from pytorch_lightning.callbacks import ModelCheckpoint, EarlyStopping\n",
    "from pytorch_lightning.loggers import TensorBoardLogger\n",
    "from pytorch_lightning import Trainer\n",
    "import torchvision.models as models\n",
    "\n",
    "\n",
    "class TripletLoss(nn.Module):\n",
    "\tdef __init__(self, margin=1.0):\n",
    "\t\tsuper().__init__()\n",
    "\t\tself.margin = margin\n",
    "\t\t\n",
    "\tdef forward(self, anchor, positive, negative):\n",
    "\t\tpos_dist = F.pairwise_distance(anchor, positive)\n",
    "\t\tneg_dist = F.pairwise_distance(anchor, negative)\n",
    "\t\tlosses = F.relu(pos_dist - neg_dist + self.margin)\n",
    "\t\treturn losses.mean()\n",
    "\n",
    "class CNNEmbeddingNet(nn.Module):\n",
    "    def __init__(self, embedding_dim=128, pretrained=False):\n",
    "        super().__init__()\n",
    "        \n",
    "        self.resnet = models.resnet18(pretrained=False)\n",
    "        self.resnet.conv1 = nn.Conv2d(\n",
    "            1, 64, kernel_size=7, stride=2, padding=3, bias=False\n",
    "        )\n",
    "        \n",
    "        self.backbone = nn.Sequential(*list(self.resnet.children())[:-2])\n",
    "        \n",
    "        self.custom_pool = nn.Sequential(\n",
    "            nn.AdaptiveAvgPool2d((1, 1))  \n",
    "        )\n",
    "        \n",
    "        self.projection = nn.Sequential(\n",
    "            nn.Linear(512, embedding_dim),\n",
    "            nn.BatchNorm1d(embedding_dim)\n",
    "        )\n",
    "        \n",
    "    def forward(self, x):\n",
    "        x = x.unsqueeze(1) if len(x.shape) == 3 else x\n",
    "        x = F.interpolate(x, size=(224, 224), mode='bilinear')\n",
    "        features = self.backbone(x)\n",
    "        features = self.custom_pool(features)\n",
    "        features = features.view(features.size(0), -1)\n",
    "        \n",
    "        return self.projection(features)\n"
   ]
  },
  {
   "cell_type": "markdown",
   "metadata": {},
   "source": [
    "Пробуем вызвать ```forward call``` для наших изображений"
   ]
  },
  {
   "cell_type": "code",
   "execution_count": 11,
   "metadata": {},
   "outputs": [
    {
     "data": {
      "text/plain": [
       "torch.Size([1, 511, 3500])"
      ]
     },
     "execution_count": 11,
     "metadata": {},
     "output_type": "execute_result"
    }
   ],
   "source": [
    "x = signals_dataset_matrices[0]['data']\n",
    "x.shape"
   ]
  },
  {
   "cell_type": "code",
   "execution_count": 12,
   "metadata": {},
   "outputs": [
    {
     "data": {
      "text/plain": [
       "torch.Size([1, 128])"
      ]
     },
     "execution_count": 12,
     "metadata": {},
     "output_type": "execute_result"
    }
   ],
   "source": [
    "model_cnn = CNNEmbeddingNet().eval()\n",
    "result = model_cnn(x)\n",
    "result.size()"
   ]
  },
  {
   "cell_type": "markdown",
   "metadata": {},
   "source": [
    "```Forward call``` корректно работает"
   ]
  },
  {
   "cell_type": "markdown",
   "metadata": {},
   "source": [
    "Класс для ```Metric Learning```"
   ]
  },
  {
   "cell_type": "code",
   "execution_count": 13,
   "metadata": {},
   "outputs": [],
   "source": [
    "class ImageMetricLearner(pl.LightningModule):\n",
    "    def __init__(self, embedding_dim=128, lr=1e-3, margin=1.0):\n",
    "        super().__init__()\n",
    "        self.save_hyperparameters()\n",
    "        self.embedding_net = CNNEmbeddingNet(embedding_dim)\n",
    "        self.loss_fn = TripletLoss(margin=margin)\n",
    "        self.lr = lr\n",
    "        \n",
    "    def forward(self, x):\n",
    "        return self.embedding_net(x)\n",
    "        \n",
    "    def training_step(self, batch, batch_idx):\n",
    "        anchor, positive, negative = batch\n",
    "        anchor_embed = self(anchor)\n",
    "        positive_embed = self(positive)\n",
    "        negative_embed = self(negative)\n",
    "        \n",
    "        loss = self.loss_fn(anchor_embed, positive_embed, negative_embed)\n",
    "        self.log('train_loss', loss, prog_bar=True)\n",
    "        return loss\n",
    "        \n",
    "    def validation_step(self, batch, batch_idx):\n",
    "        anchor, positive, negative = batch\n",
    "        anchor_embed = self(anchor)\n",
    "        positive_embed = self(positive)\n",
    "        negative_embed = self(negative)\n",
    "        \n",
    "        loss = self.loss_fn(anchor_embed, positive_embed, negative_embed)\n",
    "        self.log('val_loss', loss, prog_bar=True)\n",
    "        return loss\n",
    "        \n",
    "    def configure_optimizers(self):\n",
    "        optimizer = Adam(self.parameters(), lr=self.lr)\n",
    "        scheduler = torch.optim.lr_scheduler.ReduceLROnPlateau(\n",
    "            optimizer, mode='min', patience=3, factor=0.1)\n",
    "        \n",
    "        return {\n",
    "            'optimizer': optimizer,\n",
    "            'lr_scheduler': scheduler,\n",
    "            'monitor': 'val_loss'\n",
    "        }"
   ]
  },
  {
   "cell_type": "markdown",
   "metadata": {},
   "source": [
    "Делаем сплит данных:"
   ]
  },
  {
   "cell_type": "code",
   "execution_count": 14,
   "metadata": {},
   "outputs": [
    {
     "name": "stdout",
     "output_type": "stream",
     "text": [
      "1065\n",
      "267\n"
     ]
    }
   ],
   "source": [
    "train_size = int(0.8 * len(signals_dataset_matrices))\n",
    "val_size = len(signals_dataset_matrices) - train_size\n",
    "train_dataset, val_dataset = random_split(signals_dataset_matrices, [train_size, val_size])\n",
    "\n",
    "train_triplet_dataset = TripletEcgReoDataset(train_dataset)\n",
    "val_triplet_dataset = TripletEcgReoDataset(val_dataset)\n",
    "\n",
    "print(len(train_triplet_dataset))\n",
    "print(len(val_triplet_dataset))\n"
   ]
  },
  {
   "cell_type": "markdown",
   "metadata": {},
   "source": [
    "Создаем даталоадеры"
   ]
  },
  {
   "cell_type": "code",
   "execution_count": 16,
   "metadata": {},
   "outputs": [],
   "source": [
    "batch_size = 16\n",
    "\n",
    "train_loader = DataLoader(\n",
    "    train_triplet_dataset,\n",
    "    batch_size=batch_size,\n",
    "    shuffle=True,\n",
    ")\n",
    "\n",
    "val_loader = DataLoader(\n",
    "    val_triplet_dataset,\n",
    "    batch_size=batch_size,\n",
    "    shuffle=False,\n",
    ")"
   ]
  },
  {
   "cell_type": "markdown",
   "metadata": {},
   "source": [
    "Конфигурируем обучение"
   ]
  },
  {
   "cell_type": "code",
   "execution_count": 19,
   "metadata": {},
   "outputs": [
    {
     "name": "stderr",
     "output_type": "stream",
     "text": [
      "GPU available: True (mps), used: True\n",
      "TPU available: False, using: 0 TPU cores\n",
      "HPU available: False, using: 0 HPUs\n"
     ]
    }
   ],
   "source": [
    "model = ImageMetricLearner(\n",
    "    embedding_dim=128,\n",
    "    lr=1e-5,\n",
    "    margin=1.0\n",
    ")\n",
    "\n",
    "checkpoint_callback = ModelCheckpoint(\n",
    "    monitor='val_loss',\n",
    "    dirpath='checkpoints/',\n",
    "    filename='best-model-{epoch:02d}-{val_loss:.2f}-512-scales-1500-back-overlap',\n",
    "    save_top_k=1,\n",
    "    mode='min'\n",
    ")\n",
    "\n",
    "early_stop_callback = EarlyStopping(\n",
    "    monitor='val_loss',\n",
    "    patience=10,\n",
    "    mode='min'\n",
    ")\n",
    "\n",
    "logger = TensorBoardLogger(\"tb_logs\", name=\"ecg_reo_metric_learning\")\n",
    "\n",
    "trainer = Trainer(\n",
    "    max_epochs=100,\n",
    "    accelerator='auto',  \n",
    "    devices=1,\n",
    "    logger=logger,\n",
    "    callbacks=[checkpoint_callback, early_stop_callback],\n",
    "    log_every_n_steps=10,\n",
    "    check_val_every_n_epoch=1\n",
    ")"
   ]
  },
  {
   "cell_type": "markdown",
   "metadata": {},
   "source": [
    "Прробуем запуститься"
   ]
  },
  {
   "cell_type": "code",
   "execution_count": 20,
   "metadata": {},
   "outputs": [
    {
     "name": "stderr",
     "output_type": "stream",
     "text": [
      "\n",
      "  | Name          | Type            | Params | Mode \n",
      "----------------------------------------------------------\n",
      "0 | embedding_net | CNNEmbeddingNet | 11.7 M | train\n",
      "1 | loss_fn       | TripletLoss     | 0      | train\n",
      "----------------------------------------------------------\n",
      "11.7 M    Trainable params\n",
      "0         Non-trainable params\n",
      "11.7 M    Total params\n",
      "46.997    Total estimated model params size (MB)\n",
      "76        Modules in train mode\n",
      "0         Modules in eval mode\n"
     ]
    },
    {
     "data": {
      "application/vnd.jupyter.widget-view+json": {
       "model_id": "b03332e55f1f4e169e55a94ff97f8b2e",
       "version_major": 2,
       "version_minor": 0
      },
      "text/plain": [
       "Sanity Checking: |          | 0/? [00:00<?, ?it/s]"
      ]
     },
     "metadata": {},
     "output_type": "display_data"
    },
    {
     "data": {
      "application/vnd.jupyter.widget-view+json": {
       "model_id": "8b29727644f048e482e550d88395efca",
       "version_major": 2,
       "version_minor": 0
      },
      "text/plain": [
       "Training: |          | 0/? [00:00<?, ?it/s]"
      ]
     },
     "metadata": {},
     "output_type": "display_data"
    },
    {
     "data": {
      "application/vnd.jupyter.widget-view+json": {
       "model_id": "c4657ae1eff14005aa598dbe80b4162e",
       "version_major": 2,
       "version_minor": 0
      },
      "text/plain": [
       "Validation: |          | 0/? [00:00<?, ?it/s]"
      ]
     },
     "metadata": {},
     "output_type": "display_data"
    },
    {
     "data": {
      "application/vnd.jupyter.widget-view+json": {
       "model_id": "cb76dbb016bc423c9b07097067836833",
       "version_major": 2,
       "version_minor": 0
      },
      "text/plain": [
       "Validation: |          | 0/? [00:00<?, ?it/s]"
      ]
     },
     "metadata": {},
     "output_type": "display_data"
    },
    {
     "data": {
      "application/vnd.jupyter.widget-view+json": {
       "model_id": "b83feaa368be41648e5bd73070526ab0",
       "version_major": 2,
       "version_minor": 0
      },
      "text/plain": [
       "Validation: |          | 0/? [00:00<?, ?it/s]"
      ]
     },
     "metadata": {},
     "output_type": "display_data"
    },
    {
     "data": {
      "application/vnd.jupyter.widget-view+json": {
       "model_id": "a28af5eb705041d7887354d59495b510",
       "version_major": 2,
       "version_minor": 0
      },
      "text/plain": [
       "Validation: |          | 0/? [00:00<?, ?it/s]"
      ]
     },
     "metadata": {},
     "output_type": "display_data"
    },
    {
     "data": {
      "application/vnd.jupyter.widget-view+json": {
       "model_id": "483701393aef4ffbb34f7d539f42e6fe",
       "version_major": 2,
       "version_minor": 0
      },
      "text/plain": [
       "Validation: |          | 0/? [00:00<?, ?it/s]"
      ]
     },
     "metadata": {},
     "output_type": "display_data"
    },
    {
     "data": {
      "application/vnd.jupyter.widget-view+json": {
       "model_id": "754fc5ee02e24f068c9a714e243b09e7",
       "version_major": 2,
       "version_minor": 0
      },
      "text/plain": [
       "Validation: |          | 0/? [00:00<?, ?it/s]"
      ]
     },
     "metadata": {},
     "output_type": "display_data"
    },
    {
     "data": {
      "application/vnd.jupyter.widget-view+json": {
       "model_id": "b652e99cfad546929b4df2a12ce60a8b",
       "version_major": 2,
       "version_minor": 0
      },
      "text/plain": [
       "Validation: |          | 0/? [00:00<?, ?it/s]"
      ]
     },
     "metadata": {},
     "output_type": "display_data"
    },
    {
     "data": {
      "application/vnd.jupyter.widget-view+json": {
       "model_id": "4a90837fcd364939a541104f509e59c3",
       "version_major": 2,
       "version_minor": 0
      },
      "text/plain": [
       "Validation: |          | 0/? [00:00<?, ?it/s]"
      ]
     },
     "metadata": {},
     "output_type": "display_data"
    },
    {
     "data": {
      "application/vnd.jupyter.widget-view+json": {
       "model_id": "7056119b40a04912ab031c2c19251a22",
       "version_major": 2,
       "version_minor": 0
      },
      "text/plain": [
       "Validation: |          | 0/? [00:00<?, ?it/s]"
      ]
     },
     "metadata": {},
     "output_type": "display_data"
    },
    {
     "data": {
      "application/vnd.jupyter.widget-view+json": {
       "model_id": "1f901e4aade646f299c7663f7a618149",
       "version_major": 2,
       "version_minor": 0
      },
      "text/plain": [
       "Validation: |          | 0/? [00:00<?, ?it/s]"
      ]
     },
     "metadata": {},
     "output_type": "display_data"
    },
    {
     "data": {
      "application/vnd.jupyter.widget-view+json": {
       "model_id": "8e44db4047714b5bb5dec57a048ba08f",
       "version_major": 2,
       "version_minor": 0
      },
      "text/plain": [
       "Validation: |          | 0/? [00:00<?, ?it/s]"
      ]
     },
     "metadata": {},
     "output_type": "display_data"
    },
    {
     "data": {
      "application/vnd.jupyter.widget-view+json": {
       "model_id": "28ee4971279843efa35dbd6e720148b5",
       "version_major": 2,
       "version_minor": 0
      },
      "text/plain": [
       "Validation: |          | 0/? [00:00<?, ?it/s]"
      ]
     },
     "metadata": {},
     "output_type": "display_data"
    },
    {
     "data": {
      "application/vnd.jupyter.widget-view+json": {
       "model_id": "0a1a1cd7f7f241d08f5e70ec4a103e70",
       "version_major": 2,
       "version_minor": 0
      },
      "text/plain": [
       "Validation: |          | 0/? [00:00<?, ?it/s]"
      ]
     },
     "metadata": {},
     "output_type": "display_data"
    },
    {
     "data": {
      "application/vnd.jupyter.widget-view+json": {
       "model_id": "7ab9099c3d9448a685c5d4b005a45819",
       "version_major": 2,
       "version_minor": 0
      },
      "text/plain": [
       "Validation: |          | 0/? [00:00<?, ?it/s]"
      ]
     },
     "metadata": {},
     "output_type": "display_data"
    },
    {
     "data": {
      "application/vnd.jupyter.widget-view+json": {
       "model_id": "ad93aca0f056481ea99055120640b33a",
       "version_major": 2,
       "version_minor": 0
      },
      "text/plain": [
       "Validation: |          | 0/? [00:00<?, ?it/s]"
      ]
     },
     "metadata": {},
     "output_type": "display_data"
    },
    {
     "data": {
      "application/vnd.jupyter.widget-view+json": {
       "model_id": "41c19ebfcd9345f69ce1c27566edaa49",
       "version_major": 2,
       "version_minor": 0
      },
      "text/plain": [
       "Validation: |          | 0/? [00:00<?, ?it/s]"
      ]
     },
     "metadata": {},
     "output_type": "display_data"
    },
    {
     "data": {
      "application/vnd.jupyter.widget-view+json": {
       "model_id": "081320f59ad94132b26d16a48b313075",
       "version_major": 2,
       "version_minor": 0
      },
      "text/plain": [
       "Validation: |          | 0/? [00:00<?, ?it/s]"
      ]
     },
     "metadata": {},
     "output_type": "display_data"
    },
    {
     "data": {
      "application/vnd.jupyter.widget-view+json": {
       "model_id": "6a1abc538710485e9b1bcd2361c36a88",
       "version_major": 2,
       "version_minor": 0
      },
      "text/plain": [
       "Validation: |          | 0/? [00:00<?, ?it/s]"
      ]
     },
     "metadata": {},
     "output_type": "display_data"
    },
    {
     "data": {
      "application/vnd.jupyter.widget-view+json": {
       "model_id": "56a122be78f6400a92ca5c52f95d4ef4",
       "version_major": 2,
       "version_minor": 0
      },
      "text/plain": [
       "Validation: |          | 0/? [00:00<?, ?it/s]"
      ]
     },
     "metadata": {},
     "output_type": "display_data"
    },
    {
     "data": {
      "application/vnd.jupyter.widget-view+json": {
       "model_id": "3fa88ec6054d410b915b224658101732",
       "version_major": 2,
       "version_minor": 0
      },
      "text/plain": [
       "Validation: |          | 0/? [00:00<?, ?it/s]"
      ]
     },
     "metadata": {},
     "output_type": "display_data"
    },
    {
     "data": {
      "application/vnd.jupyter.widget-view+json": {
       "model_id": "526372a1d1ee4194a27cb8e98abc5cf8",
       "version_major": 2,
       "version_minor": 0
      },
      "text/plain": [
       "Validation: |          | 0/? [00:00<?, ?it/s]"
      ]
     },
     "metadata": {},
     "output_type": "display_data"
    },
    {
     "data": {
      "application/vnd.jupyter.widget-view+json": {
       "model_id": "7b3aac43b52b4f179a41b7604916aefe",
       "version_major": 2,
       "version_minor": 0
      },
      "text/plain": [
       "Validation: |          | 0/? [00:00<?, ?it/s]"
      ]
     },
     "metadata": {},
     "output_type": "display_data"
    },
    {
     "data": {
      "application/vnd.jupyter.widget-view+json": {
       "model_id": "ec7445e19994493bace3446b5239f297",
       "version_major": 2,
       "version_minor": 0
      },
      "text/plain": [
       "Validation: |          | 0/? [00:00<?, ?it/s]"
      ]
     },
     "metadata": {},
     "output_type": "display_data"
    },
    {
     "data": {
      "application/vnd.jupyter.widget-view+json": {
       "model_id": "869670c94df44bdfb49908143d3dde1b",
       "version_major": 2,
       "version_minor": 0
      },
      "text/plain": [
       "Validation: |          | 0/? [00:00<?, ?it/s]"
      ]
     },
     "metadata": {},
     "output_type": "display_data"
    },
    {
     "data": {
      "application/vnd.jupyter.widget-view+json": {
       "model_id": "cd883340f8284f909391dc96cea81dae",
       "version_major": 2,
       "version_minor": 0
      },
      "text/plain": [
       "Validation: |          | 0/? [00:00<?, ?it/s]"
      ]
     },
     "metadata": {},
     "output_type": "display_data"
    },
    {
     "data": {
      "application/vnd.jupyter.widget-view+json": {
       "model_id": "69ac30cad52447e9a37162b06526c338",
       "version_major": 2,
       "version_minor": 0
      },
      "text/plain": [
       "Validation: |          | 0/? [00:00<?, ?it/s]"
      ]
     },
     "metadata": {},
     "output_type": "display_data"
    },
    {
     "data": {
      "application/vnd.jupyter.widget-view+json": {
       "model_id": "a9a865e32bab4da38020998dd69719d2",
       "version_major": 2,
       "version_minor": 0
      },
      "text/plain": [
       "Validation: |          | 0/? [00:00<?, ?it/s]"
      ]
     },
     "metadata": {},
     "output_type": "display_data"
    },
    {
     "data": {
      "application/vnd.jupyter.widget-view+json": {
       "model_id": "7e053b1b623b490d9e704317ee6855fe",
       "version_major": 2,
       "version_minor": 0
      },
      "text/plain": [
       "Validation: |          | 0/? [00:00<?, ?it/s]"
      ]
     },
     "metadata": {},
     "output_type": "display_data"
    },
    {
     "data": {
      "application/vnd.jupyter.widget-view+json": {
       "model_id": "18cc32f25ecf47cdbd17842ff791554d",
       "version_major": 2,
       "version_minor": 0
      },
      "text/plain": [
       "Validation: |          | 0/? [00:00<?, ?it/s]"
      ]
     },
     "metadata": {},
     "output_type": "display_data"
    },
    {
     "data": {
      "application/vnd.jupyter.widget-view+json": {
       "model_id": "9755efd9188e4ed0b1b8b9920e747633",
       "version_major": 2,
       "version_minor": 0
      },
      "text/plain": [
       "Validation: |          | 0/? [00:00<?, ?it/s]"
      ]
     },
     "metadata": {},
     "output_type": "display_data"
    },
    {
     "data": {
      "application/vnd.jupyter.widget-view+json": {
       "model_id": "ca3e5b9c86064831a130460a52491691",
       "version_major": 2,
       "version_minor": 0
      },
      "text/plain": [
       "Validation: |          | 0/? [00:00<?, ?it/s]"
      ]
     },
     "metadata": {},
     "output_type": "display_data"
    },
    {
     "data": {
      "application/vnd.jupyter.widget-view+json": {
       "model_id": "3ecffead38884d68bd1c0027ec82862f",
       "version_major": 2,
       "version_minor": 0
      },
      "text/plain": [
       "Validation: |          | 0/? [00:00<?, ?it/s]"
      ]
     },
     "metadata": {},
     "output_type": "display_data"
    },
    {
     "data": {
      "application/vnd.jupyter.widget-view+json": {
       "model_id": "4453885d0e654e899d43557565b87bcc",
       "version_major": 2,
       "version_minor": 0
      },
      "text/plain": [
       "Validation: |          | 0/? [00:00<?, ?it/s]"
      ]
     },
     "metadata": {},
     "output_type": "display_data"
    }
   ],
   "source": [
    "trainer.fit(model, train_loader, val_loader)"
   ]
  },
  {
   "cell_type": "code",
   "execution_count": 21,
   "metadata": {},
   "outputs": [
    {
     "data": {
      "text/plain": [
       "ImageMetricLearner(\n",
       "  (embedding_net): CNNEmbeddingNet(\n",
       "    (resnet): ResNet(\n",
       "      (conv1): Conv2d(1, 64, kernel_size=(7, 7), stride=(2, 2), padding=(3, 3), bias=False)\n",
       "      (bn1): BatchNorm2d(64, eps=1e-05, momentum=0.1, affine=True, track_running_stats=True)\n",
       "      (relu): ReLU(inplace=True)\n",
       "      (maxpool): MaxPool2d(kernel_size=3, stride=2, padding=1, dilation=1, ceil_mode=False)\n",
       "      (layer1): Sequential(\n",
       "        (0): BasicBlock(\n",
       "          (conv1): Conv2d(64, 64, kernel_size=(3, 3), stride=(1, 1), padding=(1, 1), bias=False)\n",
       "          (bn1): BatchNorm2d(64, eps=1e-05, momentum=0.1, affine=True, track_running_stats=True)\n",
       "          (relu): ReLU(inplace=True)\n",
       "          (conv2): Conv2d(64, 64, kernel_size=(3, 3), stride=(1, 1), padding=(1, 1), bias=False)\n",
       "          (bn2): BatchNorm2d(64, eps=1e-05, momentum=0.1, affine=True, track_running_stats=True)\n",
       "        )\n",
       "        (1): BasicBlock(\n",
       "          (conv1): Conv2d(64, 64, kernel_size=(3, 3), stride=(1, 1), padding=(1, 1), bias=False)\n",
       "          (bn1): BatchNorm2d(64, eps=1e-05, momentum=0.1, affine=True, track_running_stats=True)\n",
       "          (relu): ReLU(inplace=True)\n",
       "          (conv2): Conv2d(64, 64, kernel_size=(3, 3), stride=(1, 1), padding=(1, 1), bias=False)\n",
       "          (bn2): BatchNorm2d(64, eps=1e-05, momentum=0.1, affine=True, track_running_stats=True)\n",
       "        )\n",
       "      )\n",
       "      (layer2): Sequential(\n",
       "        (0): BasicBlock(\n",
       "          (conv1): Conv2d(64, 128, kernel_size=(3, 3), stride=(2, 2), padding=(1, 1), bias=False)\n",
       "          (bn1): BatchNorm2d(128, eps=1e-05, momentum=0.1, affine=True, track_running_stats=True)\n",
       "          (relu): ReLU(inplace=True)\n",
       "          (conv2): Conv2d(128, 128, kernel_size=(3, 3), stride=(1, 1), padding=(1, 1), bias=False)\n",
       "          (bn2): BatchNorm2d(128, eps=1e-05, momentum=0.1, affine=True, track_running_stats=True)\n",
       "          (downsample): Sequential(\n",
       "            (0): Conv2d(64, 128, kernel_size=(1, 1), stride=(2, 2), bias=False)\n",
       "            (1): BatchNorm2d(128, eps=1e-05, momentum=0.1, affine=True, track_running_stats=True)\n",
       "          )\n",
       "        )\n",
       "        (1): BasicBlock(\n",
       "          (conv1): Conv2d(128, 128, kernel_size=(3, 3), stride=(1, 1), padding=(1, 1), bias=False)\n",
       "          (bn1): BatchNorm2d(128, eps=1e-05, momentum=0.1, affine=True, track_running_stats=True)\n",
       "          (relu): ReLU(inplace=True)\n",
       "          (conv2): Conv2d(128, 128, kernel_size=(3, 3), stride=(1, 1), padding=(1, 1), bias=False)\n",
       "          (bn2): BatchNorm2d(128, eps=1e-05, momentum=0.1, affine=True, track_running_stats=True)\n",
       "        )\n",
       "      )\n",
       "      (layer3): Sequential(\n",
       "        (0): BasicBlock(\n",
       "          (conv1): Conv2d(128, 256, kernel_size=(3, 3), stride=(2, 2), padding=(1, 1), bias=False)\n",
       "          (bn1): BatchNorm2d(256, eps=1e-05, momentum=0.1, affine=True, track_running_stats=True)\n",
       "          (relu): ReLU(inplace=True)\n",
       "          (conv2): Conv2d(256, 256, kernel_size=(3, 3), stride=(1, 1), padding=(1, 1), bias=False)\n",
       "          (bn2): BatchNorm2d(256, eps=1e-05, momentum=0.1, affine=True, track_running_stats=True)\n",
       "          (downsample): Sequential(\n",
       "            (0): Conv2d(128, 256, kernel_size=(1, 1), stride=(2, 2), bias=False)\n",
       "            (1): BatchNorm2d(256, eps=1e-05, momentum=0.1, affine=True, track_running_stats=True)\n",
       "          )\n",
       "        )\n",
       "        (1): BasicBlock(\n",
       "          (conv1): Conv2d(256, 256, kernel_size=(3, 3), stride=(1, 1), padding=(1, 1), bias=False)\n",
       "          (bn1): BatchNorm2d(256, eps=1e-05, momentum=0.1, affine=True, track_running_stats=True)\n",
       "          (relu): ReLU(inplace=True)\n",
       "          (conv2): Conv2d(256, 256, kernel_size=(3, 3), stride=(1, 1), padding=(1, 1), bias=False)\n",
       "          (bn2): BatchNorm2d(256, eps=1e-05, momentum=0.1, affine=True, track_running_stats=True)\n",
       "        )\n",
       "      )\n",
       "      (layer4): Sequential(\n",
       "        (0): BasicBlock(\n",
       "          (conv1): Conv2d(256, 512, kernel_size=(3, 3), stride=(2, 2), padding=(1, 1), bias=False)\n",
       "          (bn1): BatchNorm2d(512, eps=1e-05, momentum=0.1, affine=True, track_running_stats=True)\n",
       "          (relu): ReLU(inplace=True)\n",
       "          (conv2): Conv2d(512, 512, kernel_size=(3, 3), stride=(1, 1), padding=(1, 1), bias=False)\n",
       "          (bn2): BatchNorm2d(512, eps=1e-05, momentum=0.1, affine=True, track_running_stats=True)\n",
       "          (downsample): Sequential(\n",
       "            (0): Conv2d(256, 512, kernel_size=(1, 1), stride=(2, 2), bias=False)\n",
       "            (1): BatchNorm2d(512, eps=1e-05, momentum=0.1, affine=True, track_running_stats=True)\n",
       "          )\n",
       "        )\n",
       "        (1): BasicBlock(\n",
       "          (conv1): Conv2d(512, 512, kernel_size=(3, 3), stride=(1, 1), padding=(1, 1), bias=False)\n",
       "          (bn1): BatchNorm2d(512, eps=1e-05, momentum=0.1, affine=True, track_running_stats=True)\n",
       "          (relu): ReLU(inplace=True)\n",
       "          (conv2): Conv2d(512, 512, kernel_size=(3, 3), stride=(1, 1), padding=(1, 1), bias=False)\n",
       "          (bn2): BatchNorm2d(512, eps=1e-05, momentum=0.1, affine=True, track_running_stats=True)\n",
       "        )\n",
       "      )\n",
       "      (avgpool): AdaptiveAvgPool2d(output_size=(1, 1))\n",
       "      (fc): Linear(in_features=512, out_features=1000, bias=True)\n",
       "    )\n",
       "    (backbone): Sequential(\n",
       "      (0): Conv2d(1, 64, kernel_size=(7, 7), stride=(2, 2), padding=(3, 3), bias=False)\n",
       "      (1): BatchNorm2d(64, eps=1e-05, momentum=0.1, affine=True, track_running_stats=True)\n",
       "      (2): ReLU(inplace=True)\n",
       "      (3): MaxPool2d(kernel_size=3, stride=2, padding=1, dilation=1, ceil_mode=False)\n",
       "      (4): Sequential(\n",
       "        (0): BasicBlock(\n",
       "          (conv1): Conv2d(64, 64, kernel_size=(3, 3), stride=(1, 1), padding=(1, 1), bias=False)\n",
       "          (bn1): BatchNorm2d(64, eps=1e-05, momentum=0.1, affine=True, track_running_stats=True)\n",
       "          (relu): ReLU(inplace=True)\n",
       "          (conv2): Conv2d(64, 64, kernel_size=(3, 3), stride=(1, 1), padding=(1, 1), bias=False)\n",
       "          (bn2): BatchNorm2d(64, eps=1e-05, momentum=0.1, affine=True, track_running_stats=True)\n",
       "        )\n",
       "        (1): BasicBlock(\n",
       "          (conv1): Conv2d(64, 64, kernel_size=(3, 3), stride=(1, 1), padding=(1, 1), bias=False)\n",
       "          (bn1): BatchNorm2d(64, eps=1e-05, momentum=0.1, affine=True, track_running_stats=True)\n",
       "          (relu): ReLU(inplace=True)\n",
       "          (conv2): Conv2d(64, 64, kernel_size=(3, 3), stride=(1, 1), padding=(1, 1), bias=False)\n",
       "          (bn2): BatchNorm2d(64, eps=1e-05, momentum=0.1, affine=True, track_running_stats=True)\n",
       "        )\n",
       "      )\n",
       "      (5): Sequential(\n",
       "        (0): BasicBlock(\n",
       "          (conv1): Conv2d(64, 128, kernel_size=(3, 3), stride=(2, 2), padding=(1, 1), bias=False)\n",
       "          (bn1): BatchNorm2d(128, eps=1e-05, momentum=0.1, affine=True, track_running_stats=True)\n",
       "          (relu): ReLU(inplace=True)\n",
       "          (conv2): Conv2d(128, 128, kernel_size=(3, 3), stride=(1, 1), padding=(1, 1), bias=False)\n",
       "          (bn2): BatchNorm2d(128, eps=1e-05, momentum=0.1, affine=True, track_running_stats=True)\n",
       "          (downsample): Sequential(\n",
       "            (0): Conv2d(64, 128, kernel_size=(1, 1), stride=(2, 2), bias=False)\n",
       "            (1): BatchNorm2d(128, eps=1e-05, momentum=0.1, affine=True, track_running_stats=True)\n",
       "          )\n",
       "        )\n",
       "        (1): BasicBlock(\n",
       "          (conv1): Conv2d(128, 128, kernel_size=(3, 3), stride=(1, 1), padding=(1, 1), bias=False)\n",
       "          (bn1): BatchNorm2d(128, eps=1e-05, momentum=0.1, affine=True, track_running_stats=True)\n",
       "          (relu): ReLU(inplace=True)\n",
       "          (conv2): Conv2d(128, 128, kernel_size=(3, 3), stride=(1, 1), padding=(1, 1), bias=False)\n",
       "          (bn2): BatchNorm2d(128, eps=1e-05, momentum=0.1, affine=True, track_running_stats=True)\n",
       "        )\n",
       "      )\n",
       "      (6): Sequential(\n",
       "        (0): BasicBlock(\n",
       "          (conv1): Conv2d(128, 256, kernel_size=(3, 3), stride=(2, 2), padding=(1, 1), bias=False)\n",
       "          (bn1): BatchNorm2d(256, eps=1e-05, momentum=0.1, affine=True, track_running_stats=True)\n",
       "          (relu): ReLU(inplace=True)\n",
       "          (conv2): Conv2d(256, 256, kernel_size=(3, 3), stride=(1, 1), padding=(1, 1), bias=False)\n",
       "          (bn2): BatchNorm2d(256, eps=1e-05, momentum=0.1, affine=True, track_running_stats=True)\n",
       "          (downsample): Sequential(\n",
       "            (0): Conv2d(128, 256, kernel_size=(1, 1), stride=(2, 2), bias=False)\n",
       "            (1): BatchNorm2d(256, eps=1e-05, momentum=0.1, affine=True, track_running_stats=True)\n",
       "          )\n",
       "        )\n",
       "        (1): BasicBlock(\n",
       "          (conv1): Conv2d(256, 256, kernel_size=(3, 3), stride=(1, 1), padding=(1, 1), bias=False)\n",
       "          (bn1): BatchNorm2d(256, eps=1e-05, momentum=0.1, affine=True, track_running_stats=True)\n",
       "          (relu): ReLU(inplace=True)\n",
       "          (conv2): Conv2d(256, 256, kernel_size=(3, 3), stride=(1, 1), padding=(1, 1), bias=False)\n",
       "          (bn2): BatchNorm2d(256, eps=1e-05, momentum=0.1, affine=True, track_running_stats=True)\n",
       "        )\n",
       "      )\n",
       "      (7): Sequential(\n",
       "        (0): BasicBlock(\n",
       "          (conv1): Conv2d(256, 512, kernel_size=(3, 3), stride=(2, 2), padding=(1, 1), bias=False)\n",
       "          (bn1): BatchNorm2d(512, eps=1e-05, momentum=0.1, affine=True, track_running_stats=True)\n",
       "          (relu): ReLU(inplace=True)\n",
       "          (conv2): Conv2d(512, 512, kernel_size=(3, 3), stride=(1, 1), padding=(1, 1), bias=False)\n",
       "          (bn2): BatchNorm2d(512, eps=1e-05, momentum=0.1, affine=True, track_running_stats=True)\n",
       "          (downsample): Sequential(\n",
       "            (0): Conv2d(256, 512, kernel_size=(1, 1), stride=(2, 2), bias=False)\n",
       "            (1): BatchNorm2d(512, eps=1e-05, momentum=0.1, affine=True, track_running_stats=True)\n",
       "          )\n",
       "        )\n",
       "        (1): BasicBlock(\n",
       "          (conv1): Conv2d(512, 512, kernel_size=(3, 3), stride=(1, 1), padding=(1, 1), bias=False)\n",
       "          (bn1): BatchNorm2d(512, eps=1e-05, momentum=0.1, affine=True, track_running_stats=True)\n",
       "          (relu): ReLU(inplace=True)\n",
       "          (conv2): Conv2d(512, 512, kernel_size=(3, 3), stride=(1, 1), padding=(1, 1), bias=False)\n",
       "          (bn2): BatchNorm2d(512, eps=1e-05, momentum=0.1, affine=True, track_running_stats=True)\n",
       "        )\n",
       "      )\n",
       "    )\n",
       "    (custom_pool): Sequential(\n",
       "      (0): AdaptiveAvgPool2d(output_size=(1, 1))\n",
       "    )\n",
       "    (projection): Sequential(\n",
       "      (0): Linear(in_features=512, out_features=128, bias=True)\n",
       "      (1): BatchNorm1d(128, eps=1e-05, momentum=0.1, affine=True, track_running_stats=True)\n",
       "    )\n",
       "  )\n",
       "  (loss_fn): TripletLoss()\n",
       ")"
      ]
     },
     "execution_count": 21,
     "metadata": {},
     "output_type": "execute_result"
    }
   ],
   "source": [
    "model = ImageMetricLearner.load_from_checkpoint(\"/Users/chervonikov_alexey/Desktop/bmstu_final/diploma/notebooks/checkpoints/best-model-epoch=22-val_loss=0.42-512-scales-1500-back-overlap.ckpt\")\n",
    "model.eval()"
   ]
  },
  {
   "cell_type": "markdown",
   "metadata": {},
   "source": [
    "Получение Эмбеддингов"
   ]
  },
  {
   "cell_type": "code",
   "execution_count": 22,
   "metadata": {},
   "outputs": [
    {
     "data": {
      "application/vnd.jupyter.widget-view+json": {
       "model_id": "0f5e2c8202344bdebb923cabacf50e7f",
       "version_major": 2,
       "version_minor": 0
      },
      "text/plain": [
       "  0%|          | 0/42 [00:00<?, ?it/s]"
      ]
     },
     "metadata": {},
     "output_type": "display_data"
    }
   ],
   "source": [
    "from tqdm.auto import tqdm\n",
    "\n",
    "def extract_embeddings_with_filenames(model, dataset, batch_size=32):\n",
    "    \"\"\"\n",
    "    Извлекает эмбеддинги и сохраняет соответствие с именами файлов\n",
    "    Args:\n",
    "        model: обученная модель\n",
    "        dataset: исходный датасет EcgReoDataset\n",
    "        batch_size: размер батча для обработки\n",
    "    Returns:\n",
    "        DataFrame с колонками: filename, label, embedding (и сами эмбеддинги)\n",
    "    \"\"\"\n",
    "    model.eval()\n",
    "    device = next(model.parameters()).device\n",
    "    \n",
    "    loader = DataLoader(dataset, batch_size=batch_size, shuffle=False)\n",
    "    \n",
    "    all_embeddings = []\n",
    "    all_filenames = []\n",
    "    all_labels = []\n",
    "    \n",
    "    with torch.no_grad():\n",
    "        for batch in tqdm(loader):\n",
    "            data = batch['data'].to(device)\n",
    "            embeddings = model(data)\n",
    "            \n",
    "            all_embeddings.append(embeddings.cpu().numpy())\n",
    "            all_filenames.extend(batch['filename'])\n",
    "            all_labels.extend(batch['label'].cpu().numpy())\n",
    "    \n",
    "    embeddings_array = np.vstack(all_embeddings)\n",
    "    labels_array = np.array(all_labels)\n",
    "    \n",
    "    results_df = pd.DataFrame({\n",
    "        'filename': all_filenames,\n",
    "        'label': labels_array\n",
    "    })\n",
    "    \n",
    "    for i in range(embeddings_array.shape[1]):\n",
    "        results_df[f'embedding_{i}'] = embeddings_array[:, i]\n",
    "    \n",
    "    return results_df, embeddings_array\n",
    "\n",
    "result_df, embeddings_array = extract_embeddings_with_filenames(model, signals_dataset_matrices)"
   ]
  },
  {
   "cell_type": "code",
   "execution_count": 23,
   "metadata": {},
   "outputs": [],
   "source": [
    "result_df.to_csv('../ecg_data/embeddings_with_filenames_upd_512_scales_resnet_1500_overlap_back.csv')"
   ]
  },
  {
   "cell_type": "markdown",
   "metadata": {},
   "source": [
    "Проверим близость"
   ]
  },
  {
   "cell_type": "code",
   "execution_count": 24,
   "metadata": {},
   "outputs": [],
   "source": [
    "from sklearn.neighbors import NearestNeighbors\n",
    "\n",
    "embeddings_df = pd.read_csv(\"../ecg_data/embeddings_with_filenames_upd_512_scales_resnet_1500_overlap_back.csv\")\n",
    "\n",
    "ecg_df = embeddings_df[embeddings_df['filename'].str.contains('ecg', case=False)]\n",
    "reo_df = embeddings_df[embeddings_df['filename'].str.contains('reo', case=False)]\n",
    "\n",
    "ecg_embeddings = np.array([ecg_df[f'embedding_{i}'] for i in range(128)]).T  \n",
    "reo_embeddings = np.array([reo_df[f'embedding_{i}'] for i in range(128)]).T\n",
    "\n",
    "nbrs = NearestNeighbors(n_neighbors=1, metric='euclidean').fit(reo_embeddings)\n",
    "\n",
    "model = ImageMetricLearner.load_from_checkpoint(\"/Users/chervonikov_alexey/Desktop/bmstu_final/diploma/notebooks/checkpoints/best-model-epoch=22-val_loss=0.42-512-scales-1500-back-overlap.ckpt\")\n",
    "\n",
    "def find_closest_reo(ecg_filename, ecg_df, nbrs, reo_df):\n",
    "    \"\"\"Находит ближайшее REO изображение для заданного ECG\"\"\"\n",
    "    ecg_idx = ecg_df[ecg_df['filename'] == ecg_filename].index[0]\n",
    "    \n",
    "    ecg_embedding = ecg_embeddings[ecg_idx].reshape(1, -1)\n",
    "    \n",
    "    distances, indices = nbrs.kneighbors(ecg_embedding)\n",
    "    \n",
    "    closest_reo = reo_df.iloc[indices[0][0]]\n",
    "    \n",
    "    return {\n",
    "        'ecg_filename': ecg_filename,\n",
    "        'reo_filename': closest_reo['filename'],\n",
    "        'reo_label': closest_reo['label'],\n",
    "        'distance': distances[0][0]\n",
    "    }"
   ]
  },
  {
   "cell_type": "markdown",
   "metadata": {},
   "source": [
    "Процессинг"
   ]
  },
  {
   "cell_type": "code",
   "execution_count": 25,
   "metadata": {},
   "outputs": [],
   "source": [
    "def get_ecg_embedding(ecg_tensor, model, device=None):\n",
    "    \"\"\"Получает эмбеддинг для ECG тензора\"\"\"\n",
    "    if device is None:\n",
    "        device = next(model.parameters()).device\n",
    "    \n",
    "    model.eval()\n",
    "    with torch.no_grad():\n",
    "        if len(ecg_tensor.shape) == 3:  \n",
    "            ecg_tensor = ecg_tensor.unsqueeze(0)\n",
    "        ecg_embedding = model(ecg_tensor.to(device)).cpu().numpy()\n",
    "    \n",
    "    return ecg_embedding.squeeze()\n",
    "\n",
    "def find_closest_reo_in_df(ecg_embedding, full_df):\n",
    "    \"\"\"\n",
    "    Ищет ближайшее REO изображение в датафрейме по эмбеддингу ECG\n",
    "    \n",
    "    Args:\n",
    "        ecg_embedding: эмбеддинг ECG изображения (np.array)\n",
    "        full_df: датафрейм со всеми эмбеддингами (содержит колонки:\n",
    "                 'filename', 'label', 'embedding_0'...'embedding_N')\n",
    "    \n",
    "    Returns:\n",
    "        Словарь с информацией о ближайшем REO изображении\n",
    "    \"\"\"\n",
    "    reo_df = full_df[full_df['filename'].str.contains('reo', case=False)].copy()\n",
    "    \n",
    "    embedding_cols = [c for c in reo_df.columns if c.startswith('embedding_')]\n",
    "    reo_embeddings = reo_df[embedding_cols].values\n",
    "    \n",
    "    nbrs = NearestNeighbors(n_neighbors=1, metric='euclidean').fit(reo_embeddings)\n",
    "    \n",
    "    distances, indices = nbrs.kneighbors(ecg_embedding.reshape(1, -1))\n",
    "    \n",
    "    closest_reo = reo_df.iloc[indices[0][0]]\n",
    "    \n",
    "    return {\n",
    "        'reo_filename': closest_reo['filename'],\n",
    "        'reo_label': closest_reo['label'],\n",
    "        'distance': float(distances[0][0]),\n",
    "        'reo_embedding': reo_embeddings[indices[0][0]]\n",
    "    }\n",
    "\n",
    "def process_ecg_to_reo(ecg_tensor, model, full_df, device=None):\n",
    "    \"\"\"\n",
    "    Полный цикл обработки ECG тензора до поиска ближайшего REO\n",
    "    \n",
    "    Args:\n",
    "        ecg_tensor: тензор ECG изображения\n",
    "        model: обученная модель\n",
    "        full_df: датафрейм со всеми эмбеддингами\n",
    "        device: устройство для вычислений (cuda/cpu)\n",
    "    \n",
    "    Returns:\n",
    "        Словарь с результатами\n",
    "    \"\"\"\n",
    "    ecg_embedding = get_ecg_embedding(ecg_tensor, model, device)\n",
    "    result = find_closest_reo_in_df(ecg_embedding, full_df)\n",
    "    result['ecg_embedding'] = ecg_embedding\n",
    "    return result"
   ]
  },
  {
   "cell_type": "markdown",
   "metadata": {},
   "source": [
    "Инференс"
   ]
  },
  {
   "cell_type": "code",
   "execution_count": 26,
   "metadata": {},
   "outputs": [
    {
     "name": "stdout",
     "output_type": "stream",
     "text": [
      "Ближайшее REO изображение: reo_window_147_1_0.npz\n",
      "Метка REO: 0\n",
      "Расстояние между эмбеддингами: 9.6332\n"
     ]
    }
   ],
   "source": [
    "result = process_ecg_to_reo(signals_dataset_matrices[2]['data'], model, embeddings_df)\n",
    "\n",
    "print(f\"Ближайшее REO изображение: {result['reo_filename']}\")\n",
    "print(f\"Метка REO: {result['reo_label']}\")\n",
    "print(f\"Расстояние между эмбеддингами: {result['distance']:.4f}\")"
   ]
  },
  {
   "cell_type": "markdown",
   "metadata": {},
   "source": [
    "Инференс работает"
   ]
  },
  {
   "cell_type": "markdown",
   "metadata": {},
   "source": [
    "Прогоним все данные для подсчета общих метрик"
   ]
  },
  {
   "cell_type": "code",
   "execution_count": 27,
   "metadata": {},
   "outputs": [
    {
     "data": {
      "application/vnd.jupyter.widget-view+json": {
       "model_id": "06d8a0e614f4438f88e35c35dc5c5986",
       "version_major": 2,
       "version_minor": 0
      },
      "text/plain": [
       "  0%|          | 0/1332 [00:00<?, ?it/s]"
      ]
     },
     "metadata": {},
     "output_type": "display_data"
    }
   ],
   "source": [
    "def evaluate_ecg_reo_matches(model, signals_dataset, embeddings_df):\n",
    "    \"\"\"\n",
    "    Оценивает качество сопоставления всех ECG изображений с соответствующими REO\n",
    "    Args:\n",
    "        model: обученная модель\n",
    "        signals_dataset: датасет с ECG изображениями\n",
    "        embeddings_df: датафрейм со всеми эмбеддингами\n",
    "    Returns:\n",
    "        Словарь с метриками и полными результатами\n",
    "    \"\"\"\n",
    "    all_results = []\n",
    "    true_labels = []\n",
    "    pred_labels = []\n",
    "    distances = []\n",
    "    \n",
    "    for i in tqdm(range(len(signals_dataset))):\n",
    "        item = signals_dataset[i]\n",
    "        ecg_tensor = item['data']\n",
    "        true_label = item['label'].item()\n",
    "        filename = item['filename']\n",
    "        \n",
    "        result = process_ecg_to_reo(ecg_tensor, model, embeddings_df)\n",
    "        \n",
    "        result['ecg_filename'] = filename\n",
    "        result['true_label'] = true_label\n",
    "        all_results.append(result)\n",
    "        \n",
    "        true_labels.append(true_label)\n",
    "        pred_labels.append(result['reo_label'])\n",
    "        distances.append(result['distance'])\n",
    "    \n",
    "    accuracy = accuracy_score(true_labels, pred_labels)\n",
    "    report = classification_report(true_labels, pred_labels, output_dict=True)\n",
    "    cm = confusion_matrix(true_labels, pred_labels)\n",
    "    \n",
    "    return {\n",
    "        'accuracy': accuracy,\n",
    "        'classification_report': report,\n",
    "        'confusion_matrix': cm,\n",
    "        'mean_distance': np.mean(distances),\n",
    "        'results_df': pd.DataFrame(all_results),\n",
    "        'all_results': all_results\n",
    "    }\n",
    "\n",
    "\n",
    "metrics = evaluate_ecg_reo_matches(model, signals_dataset_matrices, embeddings_df)"
   ]
  },
  {
   "cell_type": "markdown",
   "metadata": {},
   "source": [
    "Посмотрим на метрики"
   ]
  },
  {
   "cell_type": "code",
   "execution_count": 28,
   "metadata": {},
   "outputs": [
    {
     "data": {
      "text/plain": [
       "5.302132759960843"
      ]
     },
     "execution_count": 28,
     "metadata": {},
     "output_type": "execute_result"
    }
   ],
   "source": [
    "metrics['mean_distance']"
   ]
  },
  {
   "cell_type": "code",
   "execution_count": 29,
   "metadata": {},
   "outputs": [
    {
     "data": {
      "text/plain": [
       "0.9797297297297297"
      ]
     },
     "execution_count": 29,
     "metadata": {},
     "output_type": "execute_result"
    }
   ],
   "source": [
    "metrics['accuracy']"
   ]
  },
  {
   "cell_type": "markdown",
   "metadata": {},
   "source": [
    "В целом, точность классификации вполне себе)"
   ]
  },
  {
   "cell_type": "code",
   "execution_count": null,
   "metadata": {},
   "outputs": [],
   "source": []
  }
 ],
 "metadata": {
  "kernelspec": {
   "display_name": "Python 3",
   "language": "python",
   "name": "python3"
  },
  "language_info": {
   "codemirror_mode": {
    "name": "ipython",
    "version": 3
   },
   "file_extension": ".py",
   "mimetype": "text/x-python",
   "name": "python",
   "nbconvert_exporter": "python",
   "pygments_lexer": "ipython3",
   "version": "3.12.3"
  }
 },
 "nbformat": 4,
 "nbformat_minor": 2
}
